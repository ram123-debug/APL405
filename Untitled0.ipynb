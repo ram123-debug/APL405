{
  "nbformat": 4,
  "nbformat_minor": 0,
  "metadata": {
    "colab": {
      "name": "Untitled0.ipynb",
      "provenance": [],
      "authorship_tag": "ABX9TyN6RDENEMxsWHzxQQEcC5Tl",
      "include_colab_link": true
    },
    "kernelspec": {
      "name": "python3",
      "display_name": "Python 3"
    },
    "language_info": {
      "name": "python"
    }
  },
  "cells": [
    {
      "cell_type": "markdown",
      "metadata": {
        "id": "view-in-github",
        "colab_type": "text"
      },
      "source": [
        "<a href=\"https://colab.research.google.com/github/ram123-debug/APL405/blob/main/Untitled0.ipynb\" target=\"_parent\"><img src=\"https://colab.research.google.com/assets/colab-badge.svg\" alt=\"Open In Colab\"/></a>"
      ]
    },
    {
      "cell_type": "code",
      "execution_count": 128,
      "metadata": {
        "id": "FxDvInmaLyko"
      },
      "outputs": [],
      "source": [
        "# used for manipulating directory paths\n",
        "import os\n",
        "\n",
        "# Scientific and vector computation for python\n",
        "import numpy as np\n",
        "import pandas as pd\n",
        "\n",
        "# Plotting library\n",
        "from matplotlib import pyplot\n",
        "\n",
        "# Optimization module in scipy\n",
        "from scipy import optimize\n",
        "# tells matplotlib to embed plots within the notebook\n",
        "%matplotlib inline"
      ]
    },
    {
      "cell_type": "code",
      "source": [
        "data=pd.read_csv(\"weather_train.csv\")"
      ],
      "metadata": {
        "id": "-GW7efxzL2gl"
      },
      "execution_count": 129,
      "outputs": []
    },
    {
      "cell_type": "code",
      "source": [
        "print(data)"
      ],
      "metadata": {
        "colab": {
          "base_uri": "https://localhost:8080/"
        },
        "id": "D4UE23IPOonS",
        "outputId": "4caffc3b-523b-4000-a3bc-9083972d45ae"
      },
      "execution_count": 130,
      "outputs": [
        {
          "output_type": "stream",
          "name": "stdout",
          "text": [
            "             Date     Location  MinTemp  ...  Temp9am  Temp3pm  RainTomorrow\n",
            "0      01-12-2008       Albury     13.4  ...     16.9     21.8            No\n",
            "1      02-12-2008       Albury      7.4  ...     17.2     24.3            No\n",
            "2      03-12-2008       Albury     12.9  ...     21.0     23.2            No\n",
            "3      04-12-2008       Albury      9.2  ...     18.1     26.5            No\n",
            "4      05-12-2008       Albury     17.5  ...     17.8     29.7            No\n",
            "...           ...          ...      ...  ...      ...      ...           ...\n",
            "52057  21-06-2017  Tuggeranong     -1.2  ...     -0.4     14.7            No\n",
            "52058  22-06-2017  Tuggeranong     -0.4  ...      6.0     13.1            No\n",
            "52059  23-06-2017  Tuggeranong     -3.5  ...      0.1     12.9            No\n",
            "52060  24-06-2017  Tuggeranong      0.1  ...      9.5     13.1            No\n",
            "52061  25-06-2017  Tuggeranong     -5.8  ...     -0.5     11.3            No\n",
            "\n",
            "[52062 rows x 22 columns]\n"
          ]
        }
      ]
    },
    {
      "cell_type": "code",
      "source": [
        "X=data.drop(['Date','Location','Evaporation','Sunshine','WindGustDir','WindDir9am','WindDir3pm','RainTomorrow'],axis=1)"
      ],
      "metadata": {
        "id": "vaqA-v06ppII"
      },
      "execution_count": 131,
      "outputs": []
    },
    {
      "cell_type": "code",
      "source": [
        "data['RainTomorrow'] = [ 1 if x == 'Yes' else 0 for x in data['RainTomorrow']]"
      ],
      "metadata": {
        "id": "AczK3UYFYRAf"
      },
      "execution_count": 132,
      "outputs": []
    },
    {
      "cell_type": "code",
      "source": [
        "print(data['RainTomorrow'].value_counts())"
      ],
      "metadata": {
        "colab": {
          "base_uri": "https://localhost:8080/"
        },
        "id": "c9dWKEZaOwhB",
        "outputId": "74de9851-d31b-42fc-a13b-1f888b3f832e"
      },
      "execution_count": 133,
      "outputs": [
        {
          "output_type": "stream",
          "name": "stdout",
          "text": [
            "0    39519\n",
            "1    12543\n",
            "Name: RainTomorrow, dtype: int64\n"
          ]
        }
      ]
    },
    {
      "cell_type": "code",
      "source": [
        "Y=data['RainTomorrow']\n",
        "data=X"
      ],
      "metadata": {
        "id": "b1rbK5FnadZO"
      },
      "execution_count": 134,
      "outputs": []
    },
    {
      "cell_type": "code",
      "source": [
        "min_temp_mean=data['MinTemp'].mean(skipna=True)\n",
        "max_temp_mean=data['MaxTemp'].mean(skipna=True)\n",
        "Rainfall_mean=data['Rainfall'].mean(skipna=True)\n",
        "WindGustSpeed_mean=data['WindGustSpeed'].mean(skipna=True)\n",
        "WindSpeed9am_mean=data['WindSpeed9am'].mean(skipna=True)\n",
        "WindSpeed3pm_mean=data['WindSpeed3pm'].mean(skipna=True)\n",
        "Humidity9am_mean=data['Humidity9am'].mean(skipna=True)\n",
        "Humidity3pm_mean=data['Humidity3pm'].mean(skipna=True)\n",
        "Pressure9am_mean=data['Pressure9am'].mean(skipna=True)\n",
        "Pressure3pm_mean=data['Pressure3pm'].mean(skipna=True)\n",
        "Cloud9am_mean=data['Cloud9am'].mean(skipna=True)\n",
        "Cloud3pm_mean=data['Cloud3pm'].mean(skipna=True)\n",
        "Temp9am_mean=data['Temp9am'].mean(skipna=True)\n",
        "Temp3pm_mean=data['Temp3pm'].mean(skipna=True)\n",
        "\n",
        "\n",
        "\n",
        "\n"
      ],
      "metadata": {
        "id": "Mqo82E7Zash9"
      },
      "execution_count": 135,
      "outputs": []
    },
    {
      "cell_type": "code",
      "source": [
        "data['MinTemp']=data['MinTemp'].fillna(min_temp_mean)\n",
        "data['MaxTemp']=data['MaxTemp'].fillna(max_temp_mean)\n",
        "data['Rainfall']=data['Rainfall'].fillna(Rainfall_mean)\n",
        "data['WindGustSpeed']=data['WindGustSpeed'].fillna(WindGustSpeed_mean)\n",
        "data['WindSpeed9am']=data['WindSpeed9am'].fillna(WindSpeed9am_mean)\n",
        "data['WindSpeed3pm']=data['WindSpeed3pm'].fillna(WindSpeed3pm_mean)\n",
        "data['Humidity9am']=data['Humidity9am'].fillna(Humidity9am_mean)\n",
        "data['Humidity3pm']=data['Humidity3pm'].fillna(Humidity3pm_mean)\n",
        "data['Pressure9am']=data['Pressure9am'].fillna(Pressure9am_mean)\n",
        "data['Pressure3pm']=data['Pressure3pm'].fillna(Pressure3pm_mean)\n",
        "data['Cloud9am']=data['Cloud9am'].fillna(Cloud9am_mean)\n",
        "data['Cloud3pm']=data['Cloud3pm'].fillna(Cloud3pm_mean)\n",
        "data['Temp9am']=data['Temp9am'].fillna(Temp9am_mean)\n",
        "data['Temp3pm']=data['Temp3pm'].fillna(Temp3pm_mean)\n",
        "\n"
      ],
      "metadata": {
        "id": "6fDCyBj8c9sN"
      },
      "execution_count": 136,
      "outputs": []
    },
    {
      "cell_type": "code",
      "source": [
        "print(data)"
      ],
      "metadata": {
        "colab": {
          "base_uri": "https://localhost:8080/"
        },
        "id": "yhFg3LE6fZRc",
        "outputId": "22131eb6-8eab-44c9-9481-79ed66733c7a"
      },
      "execution_count": 137,
      "outputs": [
        {
          "output_type": "stream",
          "name": "stdout",
          "text": [
            "       MinTemp  MaxTemp  Rainfall  ...  Cloud3pm  Temp9am  Temp3pm\n",
            "0         13.4     22.9       0.6  ...  4.487216     16.9     21.8\n",
            "1          7.4     25.1       0.0  ...  4.487216     17.2     24.3\n",
            "2         12.9     25.7       0.0  ...  2.000000     21.0     23.2\n",
            "3          9.2     28.0       0.0  ...  4.487216     18.1     26.5\n",
            "4         17.5     32.3       1.0  ...  8.000000     17.8     29.7\n",
            "...        ...      ...       ...  ...       ...      ...      ...\n",
            "52057     -1.2     15.1       0.4  ...  4.487216     -0.4     14.7\n",
            "52058     -0.4     14.0       0.0  ...  4.487216      6.0     13.1\n",
            "52059     -3.5     13.4       0.0  ...  4.487216      0.1     12.9\n",
            "52060      0.1     14.5       0.0  ...  4.487216      9.5     13.1\n",
            "52061     -5.8     14.4       0.0  ...  4.487216     -0.5     11.3\n",
            "\n",
            "[52062 rows x 14 columns]\n"
          ]
        }
      ]
    },
    {
      "cell_type": "code",
      "source": [
        "def normalize(df):\n",
        "    result = df.copy()\n",
        "    for feature_name in df.columns:\n",
        "        max_value = df[feature_name].max()\n",
        "        min_value = df[feature_name].min()\n",
        "        result[feature_name] = (df[feature_name] - min_value) / (max_value - min_value)\n",
        "    return result"
      ],
      "metadata": {
        "id": "be9tgPjHoMr5"
      },
      "execution_count": 138,
      "outputs": []
    },
    {
      "cell_type": "code",
      "source": [
        "Norm_Data=normalize(data)"
      ],
      "metadata": {
        "id": "RTj-5tQds7bp"
      },
      "execution_count": 139,
      "outputs": []
    },
    {
      "cell_type": "code",
      "source": [
        "print(Norm_Data)"
      ],
      "metadata": {
        "colab": {
          "base_uri": "https://localhost:8080/"
        },
        "id": "q9awuZ_ouLWY",
        "outputId": "061d882f-15f7-4af9-81b4-96c54d9524c2"
      },
      "execution_count": 140,
      "outputs": [
        {
          "output_type": "stream",
          "name": "stdout",
          "text": [
            "        MinTemp   MaxTemp  Rainfall  ...  Cloud3pm   Temp9am   Temp3pm\n",
            "0      0.569921  0.454139  0.001617  ...  0.560902  0.490196  0.439189\n",
            "1      0.411609  0.503356  0.000000  ...  0.560902  0.497549  0.495495\n",
            "2      0.556728  0.516779  0.000000  ...  0.250000  0.590686  0.470721\n",
            "3      0.459103  0.568233  0.000000  ...  0.560902  0.519608  0.545045\n",
            "4      0.678100  0.664430  0.002695  ...  1.000000  0.512255  0.617117\n",
            "...         ...       ...       ...  ...       ...       ...       ...\n",
            "52057  0.184697  0.279642  0.001078  ...  0.560902  0.066176  0.279279\n",
            "52058  0.205805  0.255034  0.000000  ...  0.560902  0.223039  0.243243\n",
            "52059  0.124011  0.241611  0.000000  ...  0.560902  0.078431  0.238739\n",
            "52060  0.218997  0.266219  0.000000  ...  0.560902  0.308824  0.243243\n",
            "52061  0.063325  0.263982  0.000000  ...  0.560902  0.063725  0.202703\n",
            "\n",
            "[52062 rows x 14 columns]\n"
          ]
        }
      ]
    },
    {
      "cell_type": "code",
      "source": [
        "print(Norm_Data.head())"
      ],
      "metadata": {
        "colab": {
          "base_uri": "https://localhost:8080/"
        },
        "id": "lnj36bQBuVcI",
        "outputId": "adfde79b-0f3f-436b-af63-fbd0eeca8567"
      },
      "execution_count": 141,
      "outputs": [
        {
          "output_type": "stream",
          "name": "stdout",
          "text": [
            "    MinTemp   MaxTemp  Rainfall  ...  Cloud3pm   Temp9am   Temp3pm\n",
            "0  0.569921  0.454139  0.001617  ...  0.560902  0.490196  0.439189\n",
            "1  0.411609  0.503356  0.000000  ...  0.560902  0.497549  0.495495\n",
            "2  0.556728  0.516779  0.000000  ...  0.250000  0.590686  0.470721\n",
            "3  0.459103  0.568233  0.000000  ...  0.560902  0.519608  0.545045\n",
            "4  0.678100  0.664430  0.002695  ...  1.000000  0.512255  0.617117\n",
            "\n",
            "[5 rows x 14 columns]\n"
          ]
        }
      ]
    },
    {
      "cell_type": "markdown",
      "source": [
        "Q2.MaxTemp Mean in Normalized data is 0.4647423708243247"
      ],
      "metadata": {
        "id": "3yfhxiN2u-GB"
      }
    },
    {
      "cell_type": "code",
      "source": [
        "MaxTemp_Mean=Norm_Data['MaxTemp'].mean()\n",
        "print(MaxTemp_Mean)"
      ],
      "metadata": {
        "colab": {
          "base_uri": "https://localhost:8080/"
        },
        "id": "KIjB1NRxugOI",
        "outputId": "01f05e11-e165-40e2-9a42-56993bba7924"
      },
      "execution_count": 142,
      "outputs": [
        {
          "output_type": "stream",
          "name": "stdout",
          "text": [
            "0.4647423708243247\n"
          ]
        }
      ]
    },
    {
      "cell_type": "code",
      "source": [
        "print(Y.value_counts())"
      ],
      "metadata": {
        "colab": {
          "base_uri": "https://localhost:8080/"
        },
        "id": "fD8REV92vfEt",
        "outputId": "849f5be8-0b0b-4885-ddf5-3b65e169edff"
      },
      "execution_count": 143,
      "outputs": [
        {
          "output_type": "stream",
          "name": "stdout",
          "text": [
            "0    39519\n",
            "1    12543\n",
            "Name: RainTomorrow, dtype: int64\n"
          ]
        }
      ]
    },
    {
      "cell_type": "code",
      "source": [
        ""
      ],
      "metadata": {
        "id": "hh58uga2wtnG"
      },
      "execution_count": 143,
      "outputs": []
    }
  ]
}